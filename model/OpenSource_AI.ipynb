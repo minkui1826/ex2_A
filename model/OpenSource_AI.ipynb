{
 "cells": [
  {
   "cell_type": "code",
   "execution_count": 2,
   "id": "62de8ee2-84b5-494a-9548-b1ebc69a5f53",
   "metadata": {},
   "outputs": [
    {
     "data": {
      "text/plain": [
       "['scaler.pkl']"
      ]
     },
     "execution_count": 2,
     "metadata": {},
     "output_type": "execute_result"
    }
   ],
   "source": [
    "import pandas as pd\n",
    "from sklearn.model_selection import train_test_split\n",
    "from sklearn.preprocessing import StandardScaler\n",
    "from sklearn.ensemble import RandomForestRegressor\n",
    "import joblib\n",
    "\n",
    "# Step 1: Load the data\n",
    "file_path = \"ohlcv_data.csv\"  # Replace with your actual dataset path\n",
    "data = pd.read_csv(file_path)\n",
    "\n",
    "# Step 2: Separate features (X) and target (y)\n",
    "X = data.drop(columns=[\"close\"])  # All features except 'close'\n",
    "y = data[\"close\"]                 # Target column 'close'\n",
    "\n",
    "# Handle missing values (if any)\n",
    "X.fillna(X.mean(), inplace=True)\n",
    "\n",
    "# Step 3: Split data into train and test sets\n",
    "X_train, X_test, y_train, y_test = train_test_split(X, y, test_size=0.2, random_state=42)\n",
    "\n",
    "# Step 4: Scale the features\n",
    "scaler = StandardScaler()\n",
    "X_train_scaled = scaler.fit_transform(X_train)\n",
    "X_test_scaled = scaler.transform(X_test)\n",
    "\n",
    "# Step 5: Train Random Forest Regressor\n",
    "model = RandomForestRegressor(n_estimators=100, random_state=42)\n",
    "model.fit(X_train_scaled, y_train)\n",
    "\n",
    "# Step 6: Save the model and scaler\n",
    "joblib.dump(model, \"model.pkl\")  # Save trained model\n",
    "joblib.dump(scaler, \"scaler.pkl\")  # Save scaler for consistent preprocessing"
   ]
  }
 ],
 "metadata": {
  "kernelspec": {
   "display_name": "Python 3 (ipykernel)",
   "language": "python",
   "name": "python3"
  },
  "language_info": {
   "codemirror_mode": {
    "name": "ipython",
    "version": 3
   },
   "file_extension": ".py",
   "mimetype": "text/x-python",
   "name": "python",
   "nbconvert_exporter": "python",
   "pygments_lexer": "ipython3",
   "version": "3.12.4"
  }
 },
 "nbformat": 4,
 "nbformat_minor": 5
}
